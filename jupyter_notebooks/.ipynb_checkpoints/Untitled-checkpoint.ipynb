{
 "cells": [
  {
   "cell_type": "code",
   "execution_count": 1,
   "id": "32bacee3",
   "metadata": {},
   "outputs": [],
   "source": [
    "import os\n",
    "os.chdir('../')\n",
    "from forced_convection_dft.correlations import PlateCorrelations, SphereCorrelations\n",
    "from forced_convection_dft.forward_models import ForwardModelThermocouple\n",
    "os.chdir('jupyter_notebooks')\n",
    "import numpy as np"
   ]
  },
  {
   "cell_type": "code",
   "execution_count": null,
   "id": "0e02bd8d",
   "metadata": {},
   "outputs": [],
   "source": [
    "time_vector, incident_heat_flux, characteristic_velocity, initial_temperature,\n",
    "                 temperature_ambient, temperature_surroundings, emissivity, alpha, diameter, volume, heat_capacity,\n",
    "                 density, area"
   ]
  },
  {
   "cell_type": "code",
   "execution_count": 10,
   "id": "5a066ad7",
   "metadata": {},
   "outputs": [],
   "source": [
    "n_points = 50\n",
    "surface_temperature = np.ones(n_points) + np.random.normal(size=n_points) * 100 + 273\n",
    "ambient_temperature =  20 + 273\n",
    "characteristic_velocity = np.ones(n_points) * 3 + np.random.normal(size=n_points)\n",
    "characteristic_length = 10e-2\n",
    "time_vector = np.linspace(0, n_points + 1, n_points)\n",
    "incident_heat_flux = np.ones(n_points) * 10e3\n",
    "initial_temperature = 20 + 273\n",
    "diameter = 0.7e-3\n",
    "emissivity = .8\n"
   ]
  },
  {
   "cell_type": "code",
   "execution_count": null,
   "id": "67dfea9f",
   "metadata": {},
   "outputs": [],
   "source": [
    "ForwardModelThermocouple()"
   ]
  },
  {
   "cell_type": "code",
   "execution_count": 11,
   "id": "d0119444",
   "metadata": {},
   "outputs": [
    {
     "data": {
      "text/plain": [
       "array([15.51574747, 20.05564581, 14.90547423, 17.72840355, 17.5250758 ,\n",
       "       24.65862063, 15.17062997, 25.30405557, 25.61271703, 20.56113854,\n",
       "       24.26737371, 25.9706983 , 16.70419055, 18.09811528, 22.14843716,\n",
       "       20.4269052 , 23.97311508, 22.53230869, 17.24986834, 18.69531069,\n",
       "       21.50002692, 14.90759086, 16.87904694, 19.3108905 , 16.43835704,\n",
       "       24.78458109, 24.44439134, 19.60323247, 22.25876513, 19.50922786,\n",
       "       26.463942  , 24.30685852, 14.30967146, 13.77849345, 23.39181652,\n",
       "       20.86875154, 21.63473652, 21.68881401, 16.05236185, 25.34330301,\n",
       "       27.99513595, 19.71690394, 25.8801084 , 24.6761802 , 22.63080168,\n",
       "       21.16536314, 17.21358433, 17.92806981, 20.54148872, 22.20230851])"
      ]
     },
     "execution_count": 11,
     "metadata": {},
     "output_type": "execute_result"
    }
   ],
   "source": [
    "plate = PlateCorrelations(surface_temperature, 10, characteristic_length)\n",
    "coef = plate.find_forced_convection_heat_transfer_coefficient(characteristic_velocity)\n",
    "coef"
   ]
  },
  {
   "cell_type": "code",
   "execution_count": 4,
   "id": "20828554",
   "metadata": {},
   "outputs": [
    {
     "data": {
      "text/plain": [
       "array([2.10285022, 1.340748  , 1.88297015, 3.62985594, 3.81362372,\n",
       "       1.77307623, 1.57770882, 3.06254562, 3.79347557, 4.1268928 ,\n",
       "       3.17960154, 3.76852676, 3.00156967, 3.63752372, 4.09255239,\n",
       "       2.77793323, 2.36308937, 2.14879071, 4.07393759, 2.85482744,\n",
       "       3.66944088, 4.76130885, 3.67155814, 3.83580545, 2.97958179,\n",
       "       3.20900054, 4.21118157, 2.78188   , 1.14772532, 2.96643058,\n",
       "       2.3725704 , 3.17733383, 3.22184239, 2.12516289, 4.18323974,\n",
       "       4.22688188, 1.81888318, 3.27251744, 4.65678655, 3.72494893,\n",
       "       3.78239455, 2.41781021, 2.39429136, 3.17064449, 2.14271763,\n",
       "       2.24302833, 1.4287774 , 3.28560946, 3.44217643, 2.71867678])"
      ]
     },
     "execution_count": 4,
     "metadata": {},
     "output_type": "execute_result"
    }
   ],
   "source": [
    "plate.find_forced_convection_characteristic_velocity(coef) "
   ]
  },
  {
   "cell_type": "code",
   "execution_count": 5,
   "id": "30f4ec3f",
   "metadata": {},
   "outputs": [
    {
     "data": {
      "text/plain": [
       "<matplotlib.collections.PathCollection at 0x7f994323c3a0>"
      ]
     },
     "execution_count": 5,
     "metadata": {},
     "output_type": "execute_result"
    },
    {
     "data": {
      "image/png": "[encoded data removed]",
      "text/plain": [
       "<Figure size 640x480 with 1 Axes>"
      ]
     },
     "metadata": {},
     "output_type": "display_data"
    }
   ],
   "source": [
    "import matplotlib.pyplot as plt\n",
    "\n",
    "plt.scatter(characteristic_velocity, plate.find_forced_convection_characteristic_velocity(coef) )"
   ]
  },
  {
   "cell_type": "code",
   "execution_count": 6,
   "id": "17cf854f",
   "metadata": {},
   "outputs": [],
   "source": [
    "sphere = SphereCorrelations(surface_temperature, ambient_temperature, characteristic_length)"
   ]
  },
  {
   "cell_type": "code",
   "execution_count": 7,
   "id": "684fc8b7",
   "metadata": {},
   "outputs": [],
   "source": [
    "coef = sphere.find_sphere_heat_transfer_coefficient(characteristic_velocity)"
   ]
  },
  {
   "cell_type": "code",
   "execution_count": 8,
   "id": "0530ef88",
   "metadata": {},
   "outputs": [
    {
     "data": {
      "text/plain": [
       "array([2.10285022, 1.340748  , 1.88297015, 3.62985594, 3.81362372,\n",
       "       1.77307623, 1.57770882, 3.06254562, 3.79347557, 4.1268928 ,\n",
       "       3.17960154, 3.76852676, 3.00156967, 3.63752372, 4.09255239,\n",
       "       2.77793323, 2.36308937, 2.14879071, 4.07393759, 2.85482744,\n",
       "       3.66944088, 4.76130885, 3.67155814, 3.83580545, 2.97958179,\n",
       "       3.20900054, 4.21118157, 2.78188   , 1.14772532, 2.96643058,\n",
       "       2.3725704 , 3.17733383, 3.22184239, 2.12516289, 4.18323974,\n",
       "       4.22688188, 1.81888318, 3.27251744, 4.65678655, 3.72494893,\n",
       "       3.78239455, 2.41781021, 2.39429136, 3.17064449, 2.14271763,\n",
       "       2.24302833, 1.4287774 , 3.28560946, 3.44217643, 2.71867678])"
      ]
     },
     "execution_count": 8,
     "metadata": {},
     "output_type": "execute_result"
    }
   ],
   "source": [
    "sphere.find_sphere_characteristic_velocity(coef)"
   ]
  },
  {
   "cell_type": "code",
   "execution_count": null,
   "id": "04a1946e",
   "metadata": {},
   "outputs": [],
   "source": []
  },
  {
   "cell_type": "code",
   "execution_count": null,
   "id": "d118265b",
   "metadata": {},
   "outputs": [],
   "source": []
  }
 ],
 "metadata": {
  "kernelspec": {
   "display_name": "Python 3 (ipykernel)",
   "language": "python",
   "name": "python3"
  },
  "language_info": {
   "codemirror_mode": {
    "name": "ipython",
    "version": 3
   },
   "file_extension": ".py",
   "mimetype": "text/x-python",
   "name": "python",
   "nbconvert_exporter": "python",
   "pygments_lexer": "ipython3",
   "version": "3.9.13"
  }
 },
 "nbformat": 4,
 "nbformat_minor": 5
}
